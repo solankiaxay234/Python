{
  "nbformat": 4,
  "nbformat_minor": 0,
  "metadata": {
    "colab": {
      "provenance": []
    },
    "kernelspec": {
      "name": "python3",
      "display_name": "Python 3"
    },
    "language_info": {
      "name": "python"
    }
  },
  "cells": [
    {
      "cell_type": "markdown",
      "source": [
        "Introduction to List Types\n",
        "Defination: A list is a collection of Itemsdeclared in a perticular Order\n",
        "\n",
        "\n",
        "Classification: It is classified as an mutable datatypes\n",
        "\n",
        "How to declare the list?"
      ],
      "metadata": {
        "id": "ucuQ2vQKCWWS"
      }
    },
    {
      "cell_type": "code",
      "execution_count": 1,
      "metadata": {
        "id": "O0WU3K-jBy1e"
      },
      "outputs": [],
      "source": [
        "Students = [\"Saima\",\"Kirti\",\"Navin\",\"Kalyan\"]"
      ]
    },
    {
      "cell_type": "code",
      "source": [
        "print(Students)"
      ],
      "metadata": {
        "colab": {
          "base_uri": "https://localhost:8080/"
        },
        "id": "tb61CCzDCF34",
        "outputId": "016b8dab-2102-4225-b697-6826fc014de7"
      },
      "execution_count": 3,
      "outputs": [
        {
          "output_type": "stream",
          "name": "stdout",
          "text": [
            "['Saima', 'Kirti', 'Navin', 'Kalyan']\n"
          ]
        }
      ]
    },
    {
      "cell_type": "code",
      "source": [
        "type(Students)"
      ],
      "metadata": {
        "colab": {
          "base_uri": "https://localhost:8080/"
        },
        "id": "3cKD82BlCKoE",
        "outputId": "24ad23e6-32f4-431a-81ac-961f02104125"
      },
      "execution_count": 4,
      "outputs": [
        {
          "output_type": "execute_result",
          "data": {
            "text/plain": [
              "list"
            ]
          },
          "metadata": {},
          "execution_count": 4
        }
      ]
    },
    {
      "cell_type": "code",
      "source": [
        "print(Students[1])"
      ],
      "metadata": {
        "colab": {
          "base_uri": "https://localhost:8080/"
        },
        "id": "r-zvvOh_DHZn",
        "outputId": "7d366bc3-0a4c-4c3f-cbe1-be6f3e260547"
      },
      "execution_count": 5,
      "outputs": [
        {
          "output_type": "stream",
          "name": "stdout",
          "text": [
            "Kirti\n"
          ]
        }
      ]
    },
    {
      "cell_type": "code",
      "source": [
        "print(Students[3].title())"
      ],
      "metadata": {
        "colab": {
          "base_uri": "https://localhost:8080/"
        },
        "id": "0r7VJtuwDgbb",
        "outputId": "0e0ed929-168b-49bd-e832-232c6b273a62"
      },
      "execution_count": 7,
      "outputs": [
        {
          "output_type": "stream",
          "name": "stdout",
          "text": [
            "Kalyan\n"
          ]
        }
      ]
    },
    {
      "cell_type": "markdown",
      "source": [
        "1: How to add new elements in the list\n",
        "\n",
        "2: How to modify the elements in the list\n",
        "\n",
        "3: How to delete the elements in the list"
      ],
      "metadata": {
        "id": "O0w3VK8TEPBJ"
      }
    },
    {
      "cell_type": "code",
      "source": [
        "Students.append(\"Akshay\")"
      ],
      "metadata": {
        "id": "TDYJEJoLD8A8"
      },
      "execution_count": 8,
      "outputs": []
    },
    {
      "cell_type": "code",
      "source": [
        "print(Students)"
      ],
      "metadata": {
        "colab": {
          "base_uri": "https://localhost:8080/"
        },
        "id": "ZOLJ6AYQEcIC",
        "outputId": "d8e6b4e4-3a6c-401b-ce4c-e439212f57ed"
      },
      "execution_count": 9,
      "outputs": [
        {
          "output_type": "stream",
          "name": "stdout",
          "text": [
            "['Saima', 'Kirti', 'Navin', 'Kalyan', 'Akshay']\n"
          ]
        }
      ]
    },
    {
      "cell_type": "code",
      "source": [],
      "metadata": {
        "id": "z9qlZYUwEuiz"
      },
      "execution_count": null,
      "outputs": []
    },
    {
      "cell_type": "markdown",
      "source": [
        "I want add Priyanka at 2nd Index"
      ],
      "metadata": {
        "id": "p_prte9hFO4V"
      }
    },
    {
      "cell_type": "code",
      "source": [
        "Students.insert(2,\"Priyanka\")"
      ],
      "metadata": {
        "id": "RUqL4NseFS29"
      },
      "execution_count": 12,
      "outputs": []
    },
    {
      "cell_type": "code",
      "source": [
        "print(Students)"
      ],
      "metadata": {
        "colab": {
          "base_uri": "https://localhost:8080/"
        },
        "id": "ibefRy30FYJ_",
        "outputId": "47d2e053-9399-4dec-e24d-9d6cc2b862f6"
      },
      "execution_count": 13,
      "outputs": [
        {
          "output_type": "stream",
          "name": "stdout",
          "text": [
            "['Saima', 'Kirti', 'Priyanka', 'Priyanka', 'Navin', 'Kalyan', 'Akshay']\n"
          ]
        }
      ]
    },
    {
      "cell_type": "code",
      "source": [],
      "metadata": {
        "id": "1q9HMjoeFbD9"
      },
      "execution_count": null,
      "outputs": []
    },
    {
      "cell_type": "markdown",
      "source": [
        "What is difference between insert and Append method in List datatype?\n",
        "\n",
        "Ans: In Insert method we can arrange the element at our choice of index while in append method element will be added at end of the file."
      ],
      "metadata": {
        "id": "ruQnN19bFg3j"
      }
    },
    {
      "cell_type": "code",
      "source": [
        "Students[3] = \"Payal\""
      ],
      "metadata": {
        "id": "YavavioGFpmN"
      },
      "execution_count": 16,
      "outputs": []
    },
    {
      "cell_type": "code",
      "source": [
        "print(Students)"
      ],
      "metadata": {
        "colab": {
          "base_uri": "https://localhost:8080/"
        },
        "id": "sje8F604HHdr",
        "outputId": "ccf4c2a9-0cfa-41dd-a690-d57583db2479"
      },
      "execution_count": 17,
      "outputs": [
        {
          "output_type": "stream",
          "name": "stdout",
          "text": [
            "['Saima', 'Kirti', 'Priyanka', 'Payal', 'Payal', 'Kalyan', 'Akshay']\n"
          ]
        }
      ]
    },
    {
      "cell_type": "code",
      "source": [
        "Students[5] = \"Jalpa\""
      ],
      "metadata": {
        "id": "mCBKcn7aHJri"
      },
      "execution_count": 18,
      "outputs": []
    },
    {
      "cell_type": "code",
      "source": [
        "print(Students)"
      ],
      "metadata": {
        "colab": {
          "base_uri": "https://localhost:8080/"
        },
        "id": "IV7UMQoRHSPV",
        "outputId": "23b5a4c4-ec35-416f-ca46-ba5ad916b24c"
      },
      "execution_count": 19,
      "outputs": [
        {
          "output_type": "stream",
          "name": "stdout",
          "text": [
            "['Saima', 'Kirti', 'Priyanka', 'Payal', 'Payal', 'Jalpa', 'Akshay']\n"
          ]
        }
      ]
    },
    {
      "cell_type": "code",
      "source": [
        "# prompt: How to remove duplicate in Python List input\n",
        "\n",
        "# Method 1: Using set()\n",
        "my_list = [1, 2, 2, 3, 4, 4, 5]\n",
        "unique_list = list(set(my_list))\n",
        "print(unique_list)  # Output: [1, 2, 3, 4, 5]\n",
        "\n",
        "# Method 2: Using a loop\n",
        "my_list = [1, 2, 2, 3, 4, 4, 5]\n",
        "unique_list = []\n",
        "for item in my_list:\n",
        "  if item not in unique_list:\n",
        "    unique_list.append(item)\n",
        "print(unique_list)  # Output: [1, 2, 3, 4, 5]\n"
      ],
      "metadata": {
        "id": "44crGi7rHUQp"
      },
      "execution_count": 20,
      "outputs": []
    },
    {
      "cell_type": "code",
      "source": [
        "Uniques = list(set(Students))"
      ],
      "metadata": {
        "id": "_1OEEJIKHeoX"
      },
      "execution_count": 21,
      "outputs": []
    },
    {
      "cell_type": "code",
      "source": [
        "print(Uniques)"
      ],
      "metadata": {
        "colab": {
          "base_uri": "https://localhost:8080/"
        },
        "id": "mz3HxGnxH7AB",
        "outputId": "d312f005-2254-47d3-a770-c217b516e36e"
      },
      "execution_count": 23,
      "outputs": [
        {
          "output_type": "stream",
          "name": "stdout",
          "text": [
            "['Akshay', 'Saima', 'Payal', 'Priyanka', 'Jalpa', 'Kirti']\n"
          ]
        }
      ]
    },
    {
      "cell_type": "code",
      "source": [
        "del(Uniques[2])"
      ],
      "metadata": {
        "id": "TosQWhbOH9fO"
      },
      "execution_count": 27,
      "outputs": []
    },
    {
      "cell_type": "code",
      "source": [
        "print(Uniques)"
      ],
      "metadata": {
        "colab": {
          "base_uri": "https://localhost:8080/"
        },
        "id": "crjpDVOlIG6i",
        "outputId": "52c886a1-f55c-4cce-e83d-4ff5c29cb2d9"
      },
      "execution_count": 28,
      "outputs": [
        {
          "output_type": "stream",
          "name": "stdout",
          "text": [
            "['Akshay', 'Saima', 'Priyanka', 'Jalpa', 'Kirti']\n"
          ]
        }
      ]
    },
    {
      "cell_type": "code",
      "source": [],
      "metadata": {
        "id": "kuT5nooaI7Kj"
      },
      "execution_count": null,
      "outputs": []
    },
    {
      "cell_type": "markdown",
      "source": [
        "Zen of Python:\n",
        "\n",
        "Beautiful is better than Ugly.\n",
        "Explicit is better than implicit.\n",
        "Simple is better than Complex.\n",
        "Flat is better than Nested.\n",
        "Sparse is better than dense.\n"
      ],
      "metadata": {
        "id": "Q-Y9nvaJJBOn"
      }
    },
    {
      "cell_type": "code",
      "source": [],
      "metadata": {
        "id": "ias84ybdJY2m"
      },
      "execution_count": null,
      "outputs": []
    }
  ]
}